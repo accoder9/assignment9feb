{
 "cells": [
  {
   "cell_type": "markdown",
   "id": "e6e4f6c0-84e7-4c3b-85ab-e3f4565b2ac0",
   "metadata": {},
   "source": [
    "Q1, Create a vehicle class with an init method having instance variables as name_of_vehicle, max_speed\n",
    "and average_of_vehicle."
   ]
  },
  {
   "cell_type": "code",
   "execution_count": 5,
   "id": "40882f80-3a96-4c17-81eb-2316c63c631f",
   "metadata": {},
   "outputs": [],
   "source": [
    "class vehicle():\n",
    "    def __init__(self,name_of_vehicle,max_speed,avg_of_vehicle):\n",
    "        self.name_of_vehicle=name_of_vehicle\n",
    "        self.max_speed=max_speed\n",
    "        self.average_of_vehicle=avg_of_vehicle\n",
    "        \n",
    "    def return_n(self):\n",
    "        print(self.name_of_vehicle,self.max_speed,self.average_of_vehicle)"
   ]
  },
  {
   "cell_type": "code",
   "execution_count": 6,
   "id": "f38b5b8d-5607-4585-a482-e6c2b9ff6e85",
   "metadata": {},
   "outputs": [],
   "source": [
    "obj=vehicle(\"Toyota\",250,40)"
   ]
  },
  {
   "cell_type": "code",
   "execution_count": 7,
   "id": "f446c593-a707-40cc-a01a-04c691a9fc14",
   "metadata": {},
   "outputs": [
    {
     "name": "stdout",
     "output_type": "stream",
     "text": [
      "Toyota 250 40\n"
     ]
    }
   ],
   "source": [
    "obj.return_n()"
   ]
  },
  {
   "cell_type": "markdown",
   "id": "d0c6ecf3-dff6-4ac9-99b5-004c591ca253",
   "metadata": {},
   "source": [
    "Q2. Create a child class car from the vehicle class created in Que 1, which will inherit the vehicle class.\n",
    "Create a method named seating_capacity which takes capacity as an argument and returns the name of\n",
    "the vehicle and its seating capacity."
   ]
  },
  {
   "cell_type": "code",
   "execution_count": 13,
   "id": "42eda799-912c-4c0e-a5c2-8e3b0d0ed4e2",
   "metadata": {},
   "outputs": [],
   "source": [
    "class car(vehicle):\n",
    "    def seating_capacit(capacity):\n",
    "        self.seating_capacity=capacity\n",
    "        \n",
    "    def returnq(self):\n",
    "        print(self.name_of_vehicle,self.seating_capacit)\n",
    "    "
   ]
  },
  {
   "cell_type": "code",
   "execution_count": 14,
   "id": "ef19a658-a267-415e-9d20-656b5947c9f8",
   "metadata": {},
   "outputs": [],
   "source": [
    "obj1=car(\"Toyota\",250,40)"
   ]
  },
  {
   "cell_type": "code",
   "execution_count": 15,
   "id": "4c0920fe-0886-4c76-b2a9-c7160f377c83",
   "metadata": {},
   "outputs": [],
   "source": [
    "obj1.seating_capacit=4"
   ]
  },
  {
   "cell_type": "code",
   "execution_count": 16,
   "id": "90eee870-4333-4f5f-a5fc-55e14e0f3738",
   "metadata": {},
   "outputs": [
    {
     "data": {
      "text/plain": [
       "4"
      ]
     },
     "execution_count": 16,
     "metadata": {},
     "output_type": "execute_result"
    }
   ],
   "source": [
    "obj1.seating_capacit\n"
   ]
  },
  {
   "cell_type": "code",
   "execution_count": 17,
   "id": "adae6c46-af07-440e-a13a-6da1127f49a8",
   "metadata": {},
   "outputs": [
    {
     "name": "stdout",
     "output_type": "stream",
     "text": [
      "Toyota 4\n"
     ]
    }
   ],
   "source": [
    "obj1.returnq()"
   ]
  },
  {
   "cell_type": "markdown",
   "id": "51b626e8-57e6-45c1-b2a1-66792ee28596",
   "metadata": {},
   "source": [
    "Q3. What is multiple inheritance? Write a python code to demonstrate multiple inheritance."
   ]
  },
  {
   "cell_type": "markdown",
   "id": "50461b4e-d513-4378-a718-4a8f2bbdf5c2",
   "metadata": {},
   "source": [
    "Multiple Inheritance \n",
    "When a class is derived from more than one base class it is called multiple Inheritance. The derived class inherits all the features of the base case."
   ]
  },
  {
   "cell_type": "code",
   "execution_count": 11,
   "id": "1305951c-39e6-4514-b939-58994eb7dce5",
   "metadata": {},
   "outputs": [],
   "source": [
    "class school():\n",
    "    std=\"\"\n",
    "    def class_1(self):\n",
    "        print(self.std)\n",
    "\n",
    "class roll():\n",
    "    roll_num=\"\"\n",
    "    def roll_n(self):\n",
    "        print(self.roll_num)\n",
    "\n",
    "class student(school, roll):\n",
    "    def name(self):\n",
    "        print(self.std,self.roll_num)"
   ]
  },
  {
   "cell_type": "code",
   "execution_count": 12,
   "id": "b723897f-88c2-418d-ad95-a85e0e25ab84",
   "metadata": {},
   "outputs": [],
   "source": [
    "school.std=9"
   ]
  },
  {
   "cell_type": "code",
   "execution_count": 13,
   "id": "c827c678-9e4c-4d81-9d2e-2e98bb6ed725",
   "metadata": {},
   "outputs": [],
   "source": [
    "roll.roll_num=101"
   ]
  },
  {
   "cell_type": "code",
   "execution_count": 14,
   "id": "faf4b55c-d970-4641-8de4-d9c6f15a82d3",
   "metadata": {},
   "outputs": [],
   "source": [
    "objj=student()"
   ]
  },
  {
   "cell_type": "code",
   "execution_count": 15,
   "id": "e178cd9b-de03-44e0-86db-393826b371a0",
   "metadata": {},
   "outputs": [
    {
     "name": "stdout",
     "output_type": "stream",
     "text": [
      "9 101\n"
     ]
    }
   ],
   "source": [
    "objj.name()"
   ]
  },
  {
   "cell_type": "markdown",
   "id": "916f049d-1ade-42fb-988e-9f944b3821bd",
   "metadata": {},
   "source": [
    "Q4. What are getter and setter in python? Create a class and create a getter and a setter method in this\n",
    "class."
   ]
  },
  {
   "cell_type": "markdown",
   "id": "5066e201-9296-4b96-9ba0-bd7de8fd3f74",
   "metadata": {},
   "source": [
    "Getter-Getters are the methods that are used in Object-Oriented Programming (OOPS) to access a class's private attributes. The setattr() function in Python corresponds to the getattr() function in Python. It alters an object's attribute values.\n",
    "\n",
    "Setter- The setter is a method that is used to set the property's value. It is very useful in object-oriented programming to set the value of private attributes in a class.\n",
    "\n"
   ]
  },
  {
   "cell_type": "code",
   "execution_count": 17,
   "id": "2f6b17bb-4d80-4981-b308-626811eacab8",
   "metadata": {},
   "outputs": [],
   "source": [
    "class Student():\n",
    "    def __init__(self,clg_name,price):\n",
    "        self.__clg_name=clg_name\n",
    "        self.__price=price\n",
    "    @property\n",
    "    def clgname_access(self):\n",
    "        return self.__clg_name\n",
    "    @clgname_access.setter\n",
    "    def clgname_change(self,name):\n",
    "        self.__clg_name=name"
   ]
  },
  {
   "cell_type": "code",
   "execution_count": 20,
   "id": "95f89c24-820e-4bc8-92f2-1e79be6e1c7e",
   "metadata": {},
   "outputs": [],
   "source": [
    "ak=Student(\"IIT\",250000)"
   ]
  },
  {
   "cell_type": "code",
   "execution_count": 21,
   "id": "b17a76ef-fe90-41fa-ac22-44004d5f2d9d",
   "metadata": {},
   "outputs": [
    {
     "data": {
      "text/plain": [
       "'IIT'"
      ]
     },
     "execution_count": 21,
     "metadata": {},
     "output_type": "execute_result"
    }
   ],
   "source": [
    "ak.clgname_access"
   ]
  },
  {
   "cell_type": "code",
   "execution_count": 25,
   "id": "39b63e07-02a6-4cb8-8824-5c7961316a8e",
   "metadata": {},
   "outputs": [],
   "source": [
    "ak.clgname_change='IIT D'"
   ]
  },
  {
   "cell_type": "code",
   "execution_count": 26,
   "id": "aa82e470-be8c-4011-9524-b0e21ac391f6",
   "metadata": {},
   "outputs": [
    {
     "data": {
      "text/plain": [
       "'IIT D'"
      ]
     },
     "execution_count": 26,
     "metadata": {},
     "output_type": "execute_result"
    }
   ],
   "source": [
    "ak.clgname_access"
   ]
  },
  {
   "cell_type": "markdown",
   "id": "036b524b-7a0f-4b4f-bf8e-89f2a7439d0d",
   "metadata": {},
   "source": [
    "Q5.What is method overriding in python? Write a python code to demonstrate method overriding."
   ]
  },
  {
   "cell_type": "markdown",
   "id": "58a32974-5214-4c9a-8211-84ff6b347d69",
   "metadata": {},
   "source": [
    "Method overriding is an ability of any object-oriented programming language that allows a subclass or child class to provide a specific implementation of a method that is already provided by one of its super-classes or parent classes. When a method in a subclass has the same name, same parameters or signature and same return type(or sub-type) as a method in its super-class, then the method in the subclass is said to override the method in the super-class"
   ]
  },
  {
   "cell_type": "code",
   "execution_count": 27,
   "id": "339b4adb-3c64-433e-b9ed-a5c36a47e7b2",
   "metadata": {},
   "outputs": [],
   "source": [
    "class Parent():\n",
    "    def name(self):\n",
    "        return(\"This is a parent class\")\n",
    "    \n",
    "class Child(Parent):\n",
    "    def name(self):\n",
    "        return (\"Ths is a child class\")\n",
    "    \n",
    "    "
   ]
  },
  {
   "cell_type": "code",
   "execution_count": 28,
   "id": "63d16b15-5cf5-4bbf-baaa-d9c28b48540e",
   "metadata": {},
   "outputs": [],
   "source": [
    "o1=Parent()"
   ]
  },
  {
   "cell_type": "code",
   "execution_count": 29,
   "id": "396cf63e-c84a-414e-85dc-a844633baeb7",
   "metadata": {},
   "outputs": [],
   "source": [
    "o2=Child()"
   ]
  },
  {
   "cell_type": "code",
   "execution_count": 31,
   "id": "9ba33467-43ac-4d05-b6b9-a64dfd00f1e2",
   "metadata": {},
   "outputs": [
    {
     "data": {
      "text/plain": [
       "'This is a parent class'"
      ]
     },
     "execution_count": 31,
     "metadata": {},
     "output_type": "execute_result"
    }
   ],
   "source": [
    "o1.name()"
   ]
  },
  {
   "cell_type": "code",
   "execution_count": 32,
   "id": "866f36ee-6d26-4232-a8fd-af09cf312a38",
   "metadata": {},
   "outputs": [
    {
     "data": {
      "text/plain": [
       "'Ths is a child class'"
      ]
     },
     "execution_count": 32,
     "metadata": {},
     "output_type": "execute_result"
    }
   ],
   "source": [
    "o2.name()"
   ]
  },
  {
   "cell_type": "code",
   "execution_count": null,
   "id": "60aa57fb-f5ad-4a8f-bc9b-f5095e7e0fab",
   "metadata": {},
   "outputs": [],
   "source": [
    "class student():\n",
    "    def __init__(self,name):\n",
    "        self.__name=name\n",
    "    @property\n",
    "    def name_access(self):\n",
    "        return(self.__name)\n",
    "    @name_access.setter\n",
    "    def name_setter\n",
    "        "
   ]
  }
 ],
 "metadata": {
  "kernelspec": {
   "display_name": "Python 3 (ipykernel)",
   "language": "python",
   "name": "python3"
  },
  "language_info": {
   "codemirror_mode": {
    "name": "ipython",
    "version": 3
   },
   "file_extension": ".py",
   "mimetype": "text/x-python",
   "name": "python",
   "nbconvert_exporter": "python",
   "pygments_lexer": "ipython3",
   "version": "3.10.8"
  }
 },
 "nbformat": 4,
 "nbformat_minor": 5
}
